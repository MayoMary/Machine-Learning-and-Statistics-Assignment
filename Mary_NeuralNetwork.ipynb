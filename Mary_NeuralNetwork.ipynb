{
 "cells": [
  {
   "cell_type": "markdown",
   "metadata": {},
   "source": [
    "## Required Libraries"
   ]
  },
  {
   "cell_type": "code",
   "execution_count": null,
   "metadata": {},
   "outputs": [],
   "source": [
    "import pandas as pd\n",
    "import tensorflow as tf\n",
    "import keras\n",
    "import scipy\n",
    "import sklearn\n",
    "\n",
    "from keras import Sequential\n",
    "from keras.layers import Dense\n"
   ]
  },
  {
   "cell_type": "markdown",
   "metadata": {},
   "source": [
    "## Reading Data from .csv file"
   ]
  },
  {
   "cell_type": "code",
   "execution_count": null,
   "metadata": {
    "collapsed": true
   },
   "outputs": [],
   "source": [
    "df=pd.read_csv(\"Boston.csv\")\n",
    "df=df.drop(['Unnamed: 0'],axis=1)\n",
    "df.columns = map(str.upper, df.columns)\n",
    "df.head()"
   ]
  },
  {
   "cell_type": "markdown",
   "metadata": {},
   "source": [
    "## Separating the target variable columns"
   ]
  },
  {
   "cell_type": "code",
   "execution_count": null,
   "metadata": {
    "collapsed": true
   },
   "outputs": [],
   "source": [
    "target=df.loc[:, df.columns == 'MEDV']\n",
    "target.head()\n"
   ]
  },
  {
   "cell_type": "markdown",
   "metadata": {},
   "source": [
    "## Seperating the Attributes"
   ]
  },
  {
   "cell_type": "code",
   "execution_count": null,
   "metadata": {
    "collapsed": true
   },
   "outputs": [],
   "source": [
    "Attributes=df[['CRIM','RM','AGE','DIS','LSTAT']]\n",
    "Attributes.head()"
   ]
  },
  {
   "cell_type": "markdown",
   "metadata": {},
   "source": [
    "## Seperating the Dataset into Test and Train datasets"
   ]
  },
  {
   "cell_type": "code",
   "execution_count": null,
   "metadata": {
    "collapsed": true
   },
   "outputs": [],
   "source": [
    "# Split the dataset into train and test\n",
    "from sklearn.model_selection import train_test_split\n",
    "X_train, X_test, Y_train, Y_test = train_test_split(Attributes, target, test_size = 0.20, random_state = 0)\n",
    "print(\"X Train: \", X_train.shape)\n",
    "print(\"Y Train: \", Y_train.shape)\n",
    "print(\"X Test: \", X_test.shape)\n",
    "print(\"Y Test: \", Y_test.shape)"
   ]
  },
  {
   "cell_type": "markdown",
   "metadata": {},
   "source": [
    "## Data Scaling \n",
    "\n",
    "https://medium.com/greyatom/why-how-and-when-to-scale-your-features-4b30ab09db5e"
   ]
  },
  {
   "cell_type": "code",
   "execution_count": null,
   "metadata": {
    "collapsed": true
   },
   "outputs": [],
   "source": [
    "from sklearn import preprocessing\n",
    "import numpy as np\n",
    "X_scaled = preprocessing.scale(X_train)\n",
    "Y_scaled = preprocessing.scale(Y_train)\n",
    "X_test_scaled = preprocessing.scale(X_test)\n",
    "Y_test_scaled = preprocessing.scale(Y_test)"
   ]
  },
  {
   "cell_type": "markdown",
   "metadata": {},
   "source": [
    "## Fitting neural network model from Keras package "
   ]
  },
  {
   "cell_type": "code",
   "execution_count": null,
   "metadata": {
    "collapsed": true
   },
   "outputs": [],
   "source": [
    "#build our model\n",
    "model = Sequential()\n",
    "model.add(Dense(50, activation='relu'))\n",
    "model.add(Dense(100, activation='relu'))\n",
    "model.add(Dense(50, activation='relu'))\n",
    "model.add(Dense(1))\n",
    "model.compile(loss='mean_squared_error', optimizer='adam')"
   ]
  },
  {
   "cell_type": "markdown",
   "metadata": {},
   "source": [
    "## Evaluation \n",
    "\n",
    "\n",
    "https://towardsdatascience.com/how-to-select-the-right-evaluation-metric-for-machine-learning-models-part-2-regression-metrics-d4a1a9ba3d74"
   ]
  },
  {
   "cell_type": "code",
   "execution_count": null,
   "metadata": {
    "collapsed": true
   },
   "outputs": [],
   "source": [
    "from matplotlib import pyplot\n",
    "model1 = Sequential()\n",
    "model1.add(Dense(2, input_dim=1))\n",
    "model1.add(Dense(1))\n",
    "model1.compile(loss='mse', optimizer='adam', metrics=['mse', 'mae', 'mape', 'cosine'])\n",
    "\n",
    "# train model\n",
    "history = model1.fit(X_test_CRIM, X_test_CRIM, epochs=500, batch_size=len(X_test_CRIM), verbose=2)\n",
    "\n",
    "# plot metrics\n",
    "pyplot.plot(history.history['mse'])\n",
    "pyplot.plot(history.history['mae'])\n",
    "pyplot.plot(history.history['mape'])\n",
    "pyplot.plot(history.history['cosine'])\n",
    "pyplot.show()"
   ]
  },
  {
   "cell_type": "markdown",
   "metadata": {},
   "source": [
    "## Analysis of Predicted Values and Actual Values for MEDV(Price)"
   ]
  },
  {
   "cell_type": "code",
   "execution_count": null,
   "metadata": {
    "collapsed": true
   },
   "outputs": [],
   "source": [
    "from sklearn.preprocessing import MinMaxScaler\n",
    "\n",
    "import math\n",
    "import decimal\n",
    "\n",
    "prediction = model.predict(X_test_scaled)\n",
    "prediction.tolist()\n",
    "\n",
    "predicted_values = [item for sublist in prediction.tolist() for item in sublist]\n",
    "predicted_values = [round(i,2) for i in predicted_values]\n",
    "\n",
    "actual_values = [item for sublist in Y_test_scaled.tolist() for item in sublist]\n",
    "\n",
    "\n",
    "df = pd.DataFrame(list(zip(actual_values, predicted_values)), columns =['Actual Values', 'Predicted Values']) \n",
    "df \n"
   ]
  }
 ],
 "metadata": {
  "kernelspec": {
   "display_name": "Python 3",
   "language": "python",
   "name": "python3"
  },
  "language_info": {
   "codemirror_mode": {
    "name": "ipython",
    "version": 3
   },
   "file_extension": ".py",
   "mimetype": "text/x-python",
   "name": "python",
   "nbconvert_exporter": "python",
   "pygments_lexer": "ipython3",
   "version": "3.6.3"
  }
 },
 "nbformat": 4,
 "nbformat_minor": 2
}
